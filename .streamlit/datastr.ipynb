{
 "cells": [
  {
   "cell_type": "markdown",
   "id": "052dfb32",
   "metadata": {},
   "source": [
    "**Data Structures**"
   ]
  },
  {
   "cell_type": "code",
   "execution_count": 15,
   "id": "84b72f4d",
   "metadata": {},
   "outputs": [
    {
     "name": "stdout",
     "output_type": "stream",
     "text": [
      "[60000, 75000, 45000, 50000]\n"
     ]
    }
   ],
   "source": [
    "#creating a list\n",
    "\n",
    "car_prices_ZAR = [60000, 75000, 45000, 50000]\n",
    "print(car_prices_ZAR)"
   ]
  },
  {
   "cell_type": "code",
   "execution_count": 4,
   "id": "39018fd7",
   "metadata": {},
   "outputs": [
    {
     "name": "stdout",
     "output_type": "stream",
     "text": [
      "[60000, 75000, 45000, 50000, 30000, 30000]\n"
     ]
    }
   ],
   "source": [
    "car_prices_ZAR.append(30000)\n",
    "print(car_prices_ZAR)"
   ]
  },
  {
   "cell_type": "code",
   "execution_count": null,
   "id": "90728f93",
   "metadata": {},
   "outputs": [
    {
     "name": "stdout",
     "output_type": "stream",
     "text": [
      "[['bmw', 60000, 'black'], ['benz', 75000, 'grey'], ['suziki', 45000, 'yellow'], ['toyota', 50000, 'white'], ['kwid', 30000, 'white']]\n"
     ]
    }
   ],
   "source": [
    "#nested list\n",
    "#nested lis is a list inside a list, its like a box inside with boxes inside\n",
    "\n",
    "nested_prices = [\n",
    "    [\"bmw\", 60000, \"black\"],\n",
    "    [\"benz\", 75000, \"grey\"],\n",
    "    [\"suziki\", 45000, \"yellow\"],\n",
    "    [\"toyota\", 50000, \"white\"],\n",
    "    [\"kwid\", 30000, \"white\"]\n",
    "\n",
    "\n",
    "]\n",
    "print(nested_prices)"
   ]
  },
  {
   "cell_type": "code",
   "execution_count": 11,
   "id": "b713d37e",
   "metadata": {},
   "outputs": [
    {
     "data": {
      "text/plain": [
       "[[2500, 85, 1, 29.41176470588235],\n",
       " [5000, 140, 2, 35.714285714285715],\n",
       " [7500, 178, 2, 42.13483146067416],\n",
       " [12000, 178, 2, 67.41573033707866],\n",
       " [14500, 179, 3, 81.00558659217877],\n",
       " [3500, 144, 1, 24.305555555555557],\n",
       " [22000, 185, 4, 118.91891891891892]]"
      ]
     },
     "execution_count": 11,
     "metadata": {},
     "output_type": "execute_result"
    }
   ],
   "source": [
    "fridges_list = [\n",
    "    [2500, 85, 1],     # Bar fridge\n",
    "    [5000, 140, 2],    # Top freezer fridge\n",
    "    [7500, 178, 2],    # Bottom freezer fridge\n",
    "    [12000, 178, 2],   # Side-by-side fridge\n",
    "    [14500, 179, 3],   # French door fridge\n",
    "    [3500, 144, 1],    # Single door fridge\n",
    "    [22000, 185, 4]    # Smart fridge (door-in-door)\n",
    "]\n",
    "\n",
    "for fridge in fridges_list:\n",
    "    price_per_height = fridge[0]/fridge[1]\n",
    "    fridge.append(price_per_height)\n",
    "\n",
    "fridges_list"
   ]
  },
  {
   "cell_type": "markdown",
   "id": "a11b7e80",
   "metadata": {},
   "source": [
    "## *Dictionaries*\n",
    "\n",
    "*A dictionary in python is a collection of data in key-value pairs-like real dictionary, where each word(key) has definition(value). It stores data as pairs*"
   ]
  },
  {
   "cell_type": "code",
   "execution_count": 14,
   "id": "536f1d1b",
   "metadata": {},
   "outputs": [
    {
     "data": {
      "text/html": [
       "<div>\n",
       "<style scoped>\n",
       "    .dataframe tbody tr th:only-of-type {\n",
       "        vertical-align: middle;\n",
       "    }\n",
       "\n",
       "    .dataframe tbody tr th {\n",
       "        vertical-align: top;\n",
       "    }\n",
       "\n",
       "    .dataframe thead th {\n",
       "        text-align: right;\n",
       "    }\n",
       "</style>\n",
       "<table border=\"1\" class=\"dataframe\">\n",
       "  <thead>\n",
       "    <tr style=\"text-align: right;\">\n",
       "      <th></th>\n",
       "      <th>estimated_price</th>\n",
       "      <th>height</th>\n",
       "      <th>doors</th>\n",
       "    </tr>\n",
       "  </thead>\n",
       "  <tbody>\n",
       "    <tr>\n",
       "      <th>0</th>\n",
       "      <td>2500</td>\n",
       "      <td>85</td>\n",
       "      <td>1</td>\n",
       "    </tr>\n",
       "  </tbody>\n",
       "</table>\n",
       "</div>"
      ],
      "text/plain": [
       "   estimated_price  height  doors\n",
       "0             2500      85      1"
      ]
     },
     "execution_count": 14,
     "metadata": {},
     "output_type": "execute_result"
    }
   ],
   "source": [
    "import pandas as pd\n",
    "\n",
    "fridges_list = {\n",
    "    \"estimated_price\" : 2500,\n",
    "    \"height\" : 85,\n",
    "    \"doors\" : 1\n",
    "}\n",
    " \n",
    "df = pd.DataFrame.from_dict([fridges_list])\n",
    "df\n"
   ]
  },
  {
   "cell_type": "code",
   "execution_count": null,
   "id": "26b7ed79",
   "metadata": {},
   "outputs": [],
   "source": []
  }
 ],
 "metadata": {
  "kernelspec": {
   "display_name": "Python 3",
   "language": "python",
   "name": "python3"
  },
  "language_info": {
   "codemirror_mode": {
    "name": "ipython",
    "version": 3
   },
   "file_extension": ".py",
   "mimetype": "text/x-python",
   "name": "python",
   "nbconvert_exporter": "python",
   "pygments_lexer": "ipython3",
   "version": "3.12.7"
  }
 },
 "nbformat": 4,
 "nbformat_minor": 5
}
